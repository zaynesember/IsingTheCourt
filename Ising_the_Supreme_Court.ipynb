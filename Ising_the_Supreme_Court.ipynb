{
 "cells": [
  {
   "cell_type": "code",
   "execution_count": 1,
   "metadata": {},
   "outputs": [
    {
     "name": "stdout",
     "output_type": "stream",
     "text": [
      "running build_ext\n",
      "building '_ising' extension\n",
      "gcc -pthread -B /apps/share64/debian7/anaconda/anaconda-6/compiler_compat -Wl,--sysroot=/ -Wsign-compare -DNDEBUG -g -fwrapv -O3 -Wall -Wstrict-prototypes -fPIC -I/apps/share64/debian7/anaconda/anaconda-6/include/python3.7m -c swig/ising_wrap.cxx -o build/temp.linux-x86_64-3.7/swig/ising_wrap.o -I./ -std=c++11 -O3\n",
      "cc1plus: warning: command line option ‘-Wstrict-prototypes’ is valid for C/ObjC but not for C++ [enabled by default]\n",
      "swig/ising_wrap.cxx: In function ‘PyObject* PyInit__ising()’:\n",
      "swig/ising_wrap.cxx:8826:21: warning: variable ‘md’ set but not used [-Wunused-but-set-variable]\n",
      "gcc -pthread -B /apps/share64/debian7/anaconda/anaconda-6/compiler_compat -Wl,--sysroot=/ -Wsign-compare -DNDEBUG -g -fwrapv -O3 -Wall -Wstrict-prototypes -fPIC -I/apps/share64/debian7/anaconda/anaconda-6/include/python3.7m -c ising.cpp -o build/temp.linux-x86_64-3.7/ising.o -I./ -std=c++11 -O3\n",
      "cc1plus: warning: command line option ‘-Wstrict-prototypes’ is valid for C/ObjC but not for C++ [enabled by default]\n",
      "g++ -pthread -shared -B /apps/share64/debian7/anaconda/anaconda-6/compiler_compat -L/apps/share64/debian7/anaconda/anaconda-6/lib -Wl,-rpath=/apps/share64/debian7/anaconda/anaconda-6/lib -Wl,--no-as-needed -Wl,--sysroot=/ build/temp.linux-x86_64-3.7/swig/ising_wrap.o build/temp.linux-x86_64-3.7/ising.o -o /home/vidia/zaynesember/IsingTheCourt/_ising.cpython-37m-x86_64-linux-gnu.so\n"
     ]
    }
   ],
   "source": [
    "! swig -c++ -python swig/ising.i\n",
    "! python swig/setup_ising.py build_ext --inplace"
   ]
  },
  {
   "cell_type": "code",
   "execution_count": 3,
   "metadata": {},
   "outputs": [
    {
     "ename": "ModuleNotFoundError",
     "evalue": "No module named 'DataReader'",
     "output_type": "error",
     "traceback": [
      "\u001b[0;31m---------------------------------------------------------------------------\u001b[0m",
      "\u001b[0;31mModuleNotFoundError\u001b[0m                       Traceback (most recent call last)",
      "\u001b[0;32m<ipython-input-3-2d6f5839ddcc>\u001b[0m in \u001b[0;36m<module>\u001b[0;34m\u001b[0m\n\u001b[1;32m      5\u001b[0m \u001b[0;32mimport\u001b[0m \u001b[0mnumpy\u001b[0m \u001b[0;32mas\u001b[0m \u001b[0mnp\u001b[0m\u001b[0;34m\u001b[0m\u001b[0;34m\u001b[0m\u001b[0m\n\u001b[1;32m      6\u001b[0m \u001b[0;32mimport\u001b[0m \u001b[0mmatplotlib\u001b[0m\u001b[0;34m.\u001b[0m\u001b[0mpyplot\u001b[0m \u001b[0;32mas\u001b[0m \u001b[0mplt\u001b[0m\u001b[0;34m\u001b[0m\u001b[0;34m\u001b[0m\u001b[0m\n\u001b[0;32m----> 7\u001b[0;31m \u001b[0;32mfrom\u001b[0m \u001b[0mDataReader\u001b[0m\u001b[0;34m.\u001b[0m\u001b[0mpy\u001b[0m \u001b[0;32mimport\u001b[0m \u001b[0;34m*\u001b[0m\u001b[0;34m\u001b[0m\u001b[0;34m\u001b[0m\u001b[0m\n\u001b[0m",
      "\u001b[0;31mModuleNotFoundError\u001b[0m: No module named 'DataReader'"
     ]
    }
   ],
   "source": [
    "import sys\n",
    "import os\n",
    "sys.path.append( os.path.abspath(\"swig\") )\n",
    "import ising\n",
    "import numpy as np\n",
    "import matplotlib.pyplot as plt\n",
    "import DataReader"
   ]
  },
  {
   "cell_type": "code",
   "execution_count": null,
   "metadata": {},
   "outputs": [],
   "source": [
    "#Returns a number (generations) of randomly generated votes for a system of size numVotes (default is 9)\n",
    "def randomVotes(generations, numVotes=9):\n",
    "    return np.random.randint(-1, 2, size=(numVotes,generations))\n",
    "\n",
    "gens = 10\n",
    "\n",
    "u = np.zeros((gens,9))\n",
    "v = randomVotes(gens)\n",
    "x = np.linspace(1,9,9)\n",
    "y = np.linspace(1,gens,gens)\n",
    "# X,Y = np.meshgrid(x,y)\n",
    "\n",
    "# plt.figure(dpi=150)\n",
    "# plt.quiver(X,Y, u, v, scale=4.5*gens, )\n",
    "# plt.xlim([0.25,9.5])\n",
    "# plt.ylim([0.25,gens+0.5])\n",
    "# plt.xlabel(\"Justice\")\n",
    "# plt.ylabel(\"Case\")\n",
    "# plt.xticks(np.linspace(1,9,9))\n",
    "# plt.yticks(np.linspace(1,gens,gens))\n",
    "\n",
    "# plt.show()\n",
    "\n",
    "m = np.mean(v, axis=1)\n",
    "\n",
    "plt.plot(x, m)\n",
    "plt.show()"
   ]
  },
  {
   "cell_type": "code",
   "execution_count": null,
   "metadata": {},
   "outputs": [],
   "source": [
    "print(getRehnquist())"
   ]
  },
  {
   "cell_type": "code",
   "execution_count": null,
   "metadata": {},
   "outputs": [],
   "source": []
  }
 ],
 "metadata": {
  "kernelspec": {
   "display_name": "Python 3",
   "language": "python",
   "name": "python3"
  },
  "language_info": {
   "codemirror_mode": {
    "name": "ipython",
    "version": 3
   },
   "file_extension": ".py",
   "mimetype": "text/x-python",
   "name": "python",
   "nbconvert_exporter": "python",
   "pygments_lexer": "ipython3",
   "version": "3.7.5"
  }
 },
 "nbformat": 4,
 "nbformat_minor": 2
}
